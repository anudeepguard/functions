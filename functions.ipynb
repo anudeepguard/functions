{
  "nbformat": 4,
  "nbformat_minor": 0,
  "metadata": {
    "colab": {
      "provenance": [],
      "toc_visible": true
    },
    "kernelspec": {
      "name": "python3",
      "display_name": "Python 3"
    },
    "language_info": {
      "name": "python"
    }
  },
  "cells": [
    {
      "cell_type": "code",
      "execution_count": null,
      "metadata": {
        "id": "1lJAwzcaa_B8"
      },
      "outputs": [],
      "source": []
    },
    {
      "cell_type": "markdown",
      "source": [],
      "metadata": {
        "id": "Hshu_Os5bFdo"
      }
    },
    {
      "cell_type": "markdown",
      "source": [
        "#functions\n",
        "\n",
        "1.how is the experience ?\n",
        "\n",
        "-little bit confusing\n",
        "\n",
        "2.how long will u last ?\n",
        "\n",
        "-as long as i breath"
      ],
      "metadata": {
        "id": "NqMYVB2GbIVy"
      }
    },
    {
      "cell_type": "code",
      "source": [
        "a=\"hi buddies ! \"\n",
        "b=\"r u there \"\n",
        "print(a,b)"
      ],
      "metadata": {
        "colab": {
          "base_uri": "https://localhost:8080/"
        },
        "id": "v1gm9kMcbfIt",
        "outputId": "8171a9a2-af0e-405c-c334-dfaf7917e9a5"
      },
      "execution_count": 1,
      "outputs": [
        {
          "output_type": "stream",
          "name": "stdout",
          "text": [
            "hi buddies  r u there \n"
          ]
        }
      ]
    },
    {
      "cell_type": "markdown",
      "source": [],
      "metadata": {
        "id": "z7KLvSdLbExK"
      }
    }
  ]
}